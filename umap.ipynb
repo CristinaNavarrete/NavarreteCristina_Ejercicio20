{
 "cells": [
  {
   "cell_type": "code",
   "execution_count": 1,
   "metadata": {},
   "outputs": [],
   "source": [
    "import numpy as np\n",
    "import matplotlib.pyplot as plt\n",
    "import sklearn.manifold\n",
    "import sklearn.datasets\n",
    "import glob\n",
    "import sklearn.cluster\n",
    "from PIL import Image\n",
    "\n",
    "img = []\n",
    "for filename in glob.glob('NORMAL/*.jpeg'): \n",
    "    im=Image.open(filename)\n",
    "    img.append(im)\n",
    "    \n",
    "img1 = []\n",
    "for filename1 in glob.glob('NEUMONIA/*.jpeg'):\n",
    "    im1=Image.open(filename1)\n",
    "    img1.append(im1)"
   ]
  },
  {
   "cell_type": "code",
   "execution_count": null,
   "metadata": {},
   "outputs": [],
   "source": [
    "len(img)\n",
    "print(img[300].size)\n",
    "print(img[200].size)"
   ]
  },
  {
   "cell_type": "code",
   "execution_count": null,
   "metadata": {},
   "outputs": [],
   "source": [
    "size=img[0].size\n",
    "print(type(size))\n",
    "print(size)\n",
    "size_a=int(size[0]*0.1)\n",
    "size_b=int(size[1]*0.1)\n",
    "new_size=(size_a,size_b)\n",
    "print(new_size)\n",
    "print(type(new_size))\n",
    "img[0].resize(new_size)"
   ]
  },
  {
   "cell_type": "code",
   "execution_count": null,
   "metadata": {},
   "outputs": [],
   "source": [
    "for i in range(len(img)):\n",
    "    img[i]=img[i].resize(new_size)\n",
    "len(img)\n",
    "print(img[300].size)\n",
    "print(img[200].size)"
   ]
  },
  {
   "cell_type": "code",
   "execution_count": null,
   "metadata": {},
   "outputs": [],
   "source": [
    "n_imagenes=len(img)\n",
    "X = img.reshape((n_imagenes, -1))"
   ]
  }
 ],
 "metadata": {
  "kernelspec": {
   "display_name": "Python 3",
   "language": "python",
   "name": "python3"
  },
  "language_info": {
   "codemirror_mode": {
    "name": "ipython",
    "version": 3
   },
   "file_extension": ".py",
   "mimetype": "text/x-python",
   "name": "python",
   "nbconvert_exporter": "python",
   "pygments_lexer": "ipython3",
   "version": "3.7.4"
  }
 },
 "nbformat": 4,
 "nbformat_minor": 2
}
